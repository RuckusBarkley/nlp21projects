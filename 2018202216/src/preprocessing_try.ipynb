{
 "cells": [
  {
   "cell_type": "code",
   "execution_count": 4,
   "id": "af4aa30b-5d72-478e-b92d-81f22ed21b65",
   "metadata": {},
   "outputs": [],
   "source": [
    "from datasets import load_dataset,load_metric, DownloadConfig"
   ]
  },
  {
   "cell_type": "code",
   "execution_count": 21,
   "id": "1ed451c7-050b-4782-a184-56ad825de0de",
   "metadata": {},
   "outputs": [
    {
     "name": "stdout",
     "output_type": "stream",
     "text": [
      "4.14.1\n"
     ]
    }
   ],
   "source": [
    "import transformers\n",
    "print(transformers.__version__)"
   ]
  },
  {
   "cell_type": "markdown",
   "id": "3fcad21d-dab7-42ca-80e5-0ad8f08e5300",
   "metadata": {},
   "source": [
    "# loading dataset 加载数据集"
   ]
  },
  {
   "cell_type": "code",
   "execution_count": 5,
   "id": "152a7d22-9f85-4246-9ae2-4a896da8eab8",
   "metadata": {},
   "outputs": [
    {
     "name": "stderr",
     "output_type": "stream",
     "text": [
      "Using the latest cached version of the module from C:\\Users\\ChenXiaolong\\.cache\\huggingface\\modules\\datasets_modules\\datasets\\squad\\d6ec3ceb99ca480ce37cdd35555d6cb2511d223b9150cce08a837ef62ffea453 (last modified on Wed Dec 22 09:59:45 2021) since it couldn't be found locally at squad., or remotely on the Hugging Face Hub.\n",
      "Reusing dataset squad (C:\\Users\\ChenXiaolong\\.cache\\huggingface\\datasets\\squad\\plain_text\\1.0.0\\d6ec3ceb99ca480ce37cdd35555d6cb2511d223b9150cce08a837ef62ffea453)\n"
     ]
    },
    {
     "data": {
      "application/vnd.jupyter.widget-view+json": {
       "model_id": "96f8a96ba76e49fca5ef6615435c04a9",
       "version_major": 2,
       "version_minor": 0
      },
      "text/plain": [
       "  0%|          | 0/2 [00:00<?, ?it/s]"
      ]
     },
     "metadata": {},
     "output_type": "display_data"
    }
   ],
   "source": [
    "raw_datasets = load_dataset(\"squad\")"
   ]
  },
  {
   "cell_type": "code",
   "execution_count": 6,
   "id": "c10fa22d-1a34-437c-a5a2-e16f303d533d",
   "metadata": {},
   "outputs": [
    {
     "data": {
      "text/plain": [
       "DatasetDict({\n",
       "    train: Dataset({\n",
       "        features: ['id', 'title', 'context', 'question', 'answers'],\n",
       "        num_rows: 87599\n",
       "    })\n",
       "    validation: Dataset({\n",
       "        features: ['id', 'title', 'context', 'question', 'answers'],\n",
       "        num_rows: 10570\n",
       "    })\n",
       "})"
      ]
     },
     "execution_count": 6,
     "metadata": {},
     "output_type": "execute_result"
    }
   ],
   "source": [
    "raw_datasets"
   ]
  },
  {
   "cell_type": "code",
   "execution_count": 7,
   "id": "8818f446-fd31-4250-9e91-f102af433036",
   "metadata": {},
   "outputs": [],
   "source": [
    "squad_v2 = False #代表使用的是SQUAD v1 或者 SQUAD v2\n",
    "model_checkpoint = \"distilbert-base-uncased\"\n",
    "batch_size = 16"
   ]
  },
  {
   "cell_type": "markdown",
   "id": "a4e81c40-3bc2-4a88-82a7-2dad2628d416",
   "metadata": {},
   "source": [
    "数据集格式\n",
    "id编号 answers代表答案 context代表文本片段 question代表问题"
   ]
  },
  {
   "cell_type": "code",
   "execution_count": 9,
   "id": "b241b3a9-22eb-47b8-9d63-8208d99a4e49",
   "metadata": {},
   "outputs": [
    {
     "data": {
      "text/plain": [
       "{'id': '5733be284776f41900661182',\n",
       " 'title': 'University_of_Notre_Dame',\n",
       " 'context': 'Architecturally, the school has a Catholic character. Atop the Main Building\\'s gold dome is a golden statue of the Virgin Mary. Immediately in front of the Main Building and facing it, is a copper statue of Christ with arms upraised with the legend \"Venite Ad Me Omnes\". Next to the Main Building is the Basilica of the Sacred Heart. Immediately behind the basilica is the Grotto, a Marian place of prayer and reflection. It is a replica of the grotto at Lourdes, France where the Virgin Mary reputedly appeared to Saint Bernadette Soubirous in 1858. At the end of the main drive (and in a direct line that connects through 3 statues and the Gold Dome), is a simple, modern stone statue of Mary.',\n",
       " 'question': 'To whom did the Virgin Mary allegedly appear in 1858 in Lourdes France?',\n",
       " 'answers': {'text': ['Saint Bernadette Soubirous'], 'answer_start': [515]}}"
      ]
     },
     "execution_count": 9,
     "metadata": {},
     "output_type": "execute_result"
    }
   ],
   "source": [
    "raw_datasets[\"train\"][0]"
   ]
  },
  {
   "cell_type": "code",
   "execution_count": 10,
   "id": "82175741-8f46-4df8-bfe6-67ff2e0ee981",
   "metadata": {},
   "outputs": [],
   "source": [
    "from datasets import ClassLabel, Sequence\n",
    "import random\n",
    "import pandas as pd\n",
    "from IPython.display import display, HTML"
   ]
  },
  {
   "cell_type": "code",
   "execution_count": 17,
   "id": "e71e95c8-3e0b-48a0-a6cc-4b1b20d13dfd",
   "metadata": {},
   "outputs": [],
   "source": [
    "def show_random_elements(dataset,num_example=15):\n",
    "    assert num_example <= len(dataset),\"数据集的长度不够，无法选择足够的示例\"\n",
    "    picks = []\n",
    "    for _ in range(num_example):\n",
    "        pick = random.randint(0,len(dataset)-1)\n",
    "        while pick in picks:\n",
    "            pick = random.randint(0,len(dataset)-1)\n",
    "        picks.append(pick)\n",
    "        \n",
    "    df = pd.DataFrame(dataset[picks])\n",
    "    \n",
    "    for col,type in dataset.features.items():\n",
    "        if isinstance(type, ClassLabel):\n",
    "            df[col] = df[col].transform(lambda i:type.names[i])\n",
    "        elif isinstance(type, Sequence) and isinstance(type.feature, ClassLabel):\n",
    "            df[col] = df[col].transform(lambda x: [type.feature.names[i] for i in x])\n",
    "    display(HTML(df.to_html()))\n",
    "          "
   ]
  },
  {
   "cell_type": "code",
   "execution_count": 18,
   "id": "49026072-8f15-478b-a713-f4e129a0264c",
   "metadata": {},
   "outputs": [
    {
     "data": {
      "text/html": [
       "<table border=\"1\" class=\"dataframe\">\n",
       "  <thead>\n",
       "    <tr style=\"text-align: right;\">\n",
       "      <th></th>\n",
       "      <th>id</th>\n",
       "      <th>title</th>\n",
       "      <th>context</th>\n",
       "      <th>question</th>\n",
       "      <th>answers</th>\n",
       "    </tr>\n",
       "  </thead>\n",
       "  <tbody>\n",
       "    <tr>\n",
       "      <th>0</th>\n",
       "      <td>56e7231d37bdd419002c3d99</td>\n",
       "      <td>Royal_Institute_of_British_Architects</td>\n",
       "      <td>The content of the acts, particularly section 1 (1) of the amending act of 1938, shows the importance which was then attached to giving architects the responsibility of superintending or supervising the building works of local authorities (for housing and other projects), rather than persons professionally qualified only as municipal or other engineers. By the 1970s another issue had emerged affecting education for qualification and registration for practice as an architect, due to the obligation imposed on the United Kingdom and other European governments to comply with European Union Directives concerning mutual recognition of professional qualifications in favour of equal standards across borders, in furtherance of the policy for a single market of the European Union. This led to proposals for reconstituting ARCUK. Eventually, in the 1990s, before proceeding, the government issued a consultation paper \"Reform of Architects Registration\" (1994). The change of name to \"Architects Registration Board\" was one of the proposals which was later enacted in the Housing Grants, Construction and Regeneration Act 1996 and reenacted as the Architects Act 1997; another was the abolition of the ARCUK Board of Architectural Education.</td>\n",
       "      <td>What was the new name given to ARCUK in the '90s?</td>\n",
       "      <td>{'text': ['Architects Registration Board'], 'answer_start': [985]}</td>\n",
       "    </tr>\n",
       "    <tr>\n",
       "      <th>1</th>\n",
       "      <td>572866e54b864d1900164995</td>\n",
       "      <td>History_of_India</td>\n",
       "      <td>The Shunga Empire or Shunga Empire was an ancient Indian dynasty from Magadha that controlled vast areas of the Indian subcontinent from around 187 to 78 BCE. The dynasty was established by Pushyamitra Shunga, after the fall of the Maurya Empire. Its capital was Pataliputra, but later emperors such as Bhagabhadra also held court at Besnagar, modern Vidisha in Eastern Malwa. Pushyamitra Shunga ruled for 36 years and was succeeded by his son Agnimitra. There were ten Shunga rulers. The empire is noted for its numerous wars with both foreign and indigenous powers. They fought battles with the Kalingas, Satavahanas, the Indo-Greeks, and possibly the Panchalas and Mathuras. Art, education, philosophy, and other forms of learning flowered during this period including small terracotta images, larger stone sculptures, and architectural monuments such as the Stupa at Bharhut, and the renowned Great Stupa at Sanchi. The Shunga rulers helped to establish the tradition of royal sponsorship of learning and art. The script used by the empire was a variant of Brahmi and was used to write the Sanskrit language. The Shunga Empire played an imperative role in patronizing Indian culture at a time when some of the most important developments in Hindu thought were taking place.</td>\n",
       "      <td>Who founded the Shuga empire after the fall of the Maurya empire?</td>\n",
       "      <td>{'text': ['Pushyamitra Shunga'], 'answer_start': [190]}</td>\n",
       "    </tr>\n",
       "    <tr>\n",
       "      <th>2</th>\n",
       "      <td>56d67a8d1c8504140094714d</td>\n",
       "      <td>2008_Sichuan_earthquake</td>\n",
       "      <td>Malaysia-based Yazhou Zhoukan conducted an interview with former researcher at the China Seismological Bureau Geng Qingguo (耿庆国), in which Geng claimed that a confidential written report was sent to the State Seismological Bureau on April 30, 2008, warning about the possible occurrence of a significant earthquake in Ngawa Prefecture region of Sichuan around May 8, with a range of 10 days before or after the quake. Geng, while acknowledging that earthquake prediction was broadly considered problematic by the scientific community, believed that \"the bigger the earthquake, the easier it is to predict.\" Geng had long attempted to establish a correlation between the occurrence of droughts and earthquakes; Premier Zhou Enlai reportedly took an interest in Geng's work. Geng's drought-earthquake correlation theory was first released in 1972, and said to have successfully predicted the 1975 Haicheng and 1976 Tangshan earthquakes. The same Yazhou Zhoukan article pointed out the inherent difficulties associated with predicting earthquakes. In response, an official with the Seismological Bureau stated that \"earthquake prediction is widely acknowledged around the world to be difficult from a scientific standpoint.\" The official also denied that the Seismological Bureau had received reports predicting the earthquake.</td>\n",
       "      <td>What did researcher Geng Qingguo say was sent to the State Seismological Bureau?</td>\n",
       "      <td>{'text': ['written report'], 'answer_start': [172]}</td>\n",
       "    </tr>\n",
       "    <tr>\n",
       "      <th>3</th>\n",
       "      <td>5729a1aaaf94a219006aa5a4</td>\n",
       "      <td>Appalachian_Mountains</td>\n",
       "      <td>Before the French and Indian War, the Appalachian Mountains laid on the indeterminate boundary between Britain's colonies along the Atlantic and French areas centered in the Mississippi basin. After the French and Indian War, the Proclamation of 1763 restricted settlement for Great Britain's thirteen original colonies in North America to east of the summit line of the mountains (except in the northern regions where the Great Lakes formed the boundary). Although the line was adjusted several times to take frontier settlements into account and was impossible to enforce as law, it was strongly resented by backcountry settlers throughout the Appalachians. The Proclamation Line can be seen as one of the grievances which led to the American Revolutionary War. Many frontier settlers held that the defeat of the French opened the land west of the mountains to English settlement, only to find settlement barred by the British King's proclamation. The backcountry settlers who fought in the Illinois campaign of George Rogers Clark were motivated to secure their settlement of Kentucky.</td>\n",
       "      <td>What happened after the French and Indian War?</td>\n",
       "      <td>{'text': ['the Proclamation of 1763 restricted settlement for Great Britain's thirteen original colonies in North America to east of the summit line of the mountains'], 'answer_start': [226]}</td>\n",
       "    </tr>\n",
       "    <tr>\n",
       "      <th>4</th>\n",
       "      <td>57100daba58dae1900cd6823</td>\n",
       "      <td>Elizabeth_II</td>\n",
       "      <td>In 1997, a year after the divorce, Diana was killed in a car crash in Paris. The Queen was on holiday with her extended family at Balmoral. Diana's two sons by Charles—Princes William and Harry—wanted to attend church and so the Queen and Prince Philip took them that morning. After that single public appearance, for five days the Queen and the Duke shielded their grandsons from the intense press interest by keeping them at Balmoral where they could grieve in private, but the royal family's seclusion and the failure to fly a flag at half-mast over Buckingham Palace caused public dismay. Pressured by the hostile reaction, the Queen agreed to return to London and do a live television broadcast on 5 September, the day before Diana's funeral. In the broadcast, she expressed admiration for Diana and her feelings \"as a grandmother\" for the two princes. As a result, much of the public hostility evaporated.</td>\n",
       "      <td>When did Diana die?</td>\n",
       "      <td>{'text': ['1997'], 'answer_start': [3]}</td>\n",
       "    </tr>\n",
       "    <tr>\n",
       "      <th>5</th>\n",
       "      <td>5726dfaedd62a815002e9382</td>\n",
       "      <td>Madonna_(entertainer)</td>\n",
       "      <td>In mid-2004 Madonna embarked on the Re-Invention World Tour in the U.S., Canada, and Europe. It became the highest-grossing tour of 2004, earning around $120 million and became the subject of her documentary I'm Going to Tell You a Secret. In November 2004, she was inducted into the UK Music Hall of Fame as one of its five founding members, along with The Beatles, Elvis Presley, Bob Marley, and U2. In January 2005, Madonna performed a cover version of the John Lennon song \"Imagine\" at Tsunami Aid. She also performed at the Live 8 benefit concert in London in July 2005.</td>\n",
       "      <td>What was Madonna's documentary called?</td>\n",
       "      <td>{'text': ['I'm Going to Tell You a Secret'], 'answer_start': [208]}</td>\n",
       "    </tr>\n",
       "    <tr>\n",
       "      <th>6</th>\n",
       "      <td>57317e0505b4da19006bd1e8</td>\n",
       "      <td>Muammar_Gaddafi</td>\n",
       "      <td>Gaddafi sought to develop closer links in the Maghreb; in January 1974 Libya and Tunisia announced a political union, the Arab Islamic Republic. Although advocated by Gaddafi and Tunisian President Habib Bourguiba, the move was deeply unpopular in Tunisia and soon abandoned. Retaliating, Gaddafi sponsored anti-government militants in Tunisia into the 1980s. Turning his attention to Algeria, in 1975 Libya signed the Hassi Messaoud defence agreement allegedly to counter \"Moroccan expansionism\", also funding the Polisario Front of Western Sahara in their independence struggle against Morocco. Seeking to diversify Libya's economy, Gaddafi's government began purchasing shares in major European corporations like Fiat as well as buying real estate in Malta and Italy, which would become a valuable source of income during the 1980s oil slump.</td>\n",
       "      <td>What country formed a political union with Libya in 1974?</td>\n",
       "      <td>{'text': ['Tunisia'], 'answer_start': [81]}</td>\n",
       "    </tr>\n",
       "    <tr>\n",
       "      <th>7</th>\n",
       "      <td>5726316889a1e219009ac53b</td>\n",
       "      <td>Professional_wrestling</td>\n",
       "      <td>Although professional wrestling started out as petty acts in sideshows, traveling circuses and carnivals, today it is a billion-dollar industry. Revenue is drawn from live event ticket sales, network television broadcasts, pay-per-view broadcasts, personal appearances by performers, branded merchandise and home video. Particularly since the 1950s, pro wrestling events have frequently been responsible for sellout crowds at large arenas, including Madison Square Garden, as well as football stadiums, by promotions including the WWE, the NWA territory system, WCW, and AWA. Pro wrestling was also instrumental in making pay-per-view a viable method of content delivery. Annual shows such as WrestleMania, SummerSlam, Royal Rumble, and formerly Bash at the Beach, Halloween Havoc and Starrcade are among the highest-selling pay-per-view programming each year. In modern day, internet programming has been utilized by a number of companies to air web shows, internet pay-per-views (iPPVs) or on-demand content, helping to generate internet-related revenue earnings from the evolving World Wide Web.</td>\n",
       "      <td>what wrestling shows occur yearly?</td>\n",
       "      <td>{'text': ['WrestleMania, SummerSlam, Royal Rumble, and formerly Bash at the Beach, Halloween Havoc and Starrcade'], 'answer_start': [693]}</td>\n",
       "    </tr>\n",
       "    <tr>\n",
       "      <th>8</th>\n",
       "      <td>572877c6ff5b5019007da264</td>\n",
       "      <td>Labour_Party_(UK)</td>\n",
       "      <td>\"New Labour\" was first termed as an alternative branding for the Labour Party, dating from a conference slogan first used by the Labour Party in 1994, which was later seen in a draft manifesto published by the party in 1996, called New Labour, New Life For Britain. It was a continuation of the trend that had begun under the leadership of Neil Kinnock. \"New Labour\" as a name has no official status, but remains in common use to distinguish modernisers from those holding to more traditional positions, normally referred to as \"Old Labour\".</td>\n",
       "      <td>What was the other name for the Labout Party?</td>\n",
       "      <td>{'text': ['\"New Labour\"'], 'answer_start': [0]}</td>\n",
       "    </tr>\n",
       "    <tr>\n",
       "      <th>9</th>\n",
       "      <td>570ce79dfed7b91900d45ab5</td>\n",
       "      <td>Gymnastics</td>\n",
       "      <td>In a tumbling pass, dismount or vault, landing is the final phase, following take off and flight  This is a critical skill in terms of execution in competition scores, general performance, and injury occurrence. Without the necessary magnitude of energy dissipation during impact, the risk of sustaining injuries during somersaulting increases. These injuries commonly occur at the lower extremities such as: cartilage lesions, ligament tears, and bone bruises/fractures. To avoid such injuries, and to receive a high performance score, proper technique must be used by the gymnast. \"The subsequent ground contact or impact landing phase must be achieved using a safe, aesthetic and well-executed double foot landing.\"  A successful landing in gymnastics is classified as soft, meaning the knee and hip joints are at greater than 63 degrees of flexion.</td>\n",
       "      <td>How do you avoid injuries?</td>\n",
       "      <td>{'text': ['proper technique must be used by the gymnast'], 'answer_start': [537]}</td>\n",
       "    </tr>\n",
       "    <tr>\n",
       "      <th>10</th>\n",
       "      <td>56e1c51ccd28a01900c67b5a</td>\n",
       "      <td>Communications_in_Somalia</td>\n",
       "      <td>Somalia established its first ISP in 1999, one of the last countries in Africa to get connected to the Internet. According to the telecommunications resource Balancing Act, growth in internet connectivity has since then grown considerably, with around 53% of the entire nation covered as of 2009. Both internet commerce and telephony have consequently become among the quickest growing local businesses.</td>\n",
       "      <td>In 2009, what percent of Somalia has internet coverage?</td>\n",
       "      <td>{'text': ['53%'], 'answer_start': [252]}</td>\n",
       "    </tr>\n",
       "    <tr>\n",
       "      <th>11</th>\n",
       "      <td>57099f19200fba14003681e7</td>\n",
       "      <td>Race_and_ethnicity_in_the_United_States_Census</td>\n",
       "      <td>In September 1997, during the process of revision of racial categories previously declared by OMB directive no. 15, the American Anthropological Association (AAA) recommended that OMB combine the \"race\" and \"ethnicity\" categories into one question to appear as \"race/ethnicity\" for the 2000 US Census. The Interagency Committee agreed, stating that \"race\" and \"ethnicity\" were not sufficiently defined and \"that many respondents conceptualize 'race' and 'ethnicity' as one in the same  [sic] underscor[ing] the need to consolidate these terms into one category, using a term that is more meaningful to the American people.\"</td>\n",
       "      <td>What organization recommended that race and ethnicity categories be combined into one question for the 2000 US census?</td>\n",
       "      <td>{'text': ['the American Anthropological Association'], 'answer_start': [116]}</td>\n",
       "    </tr>\n",
       "    <tr>\n",
       "      <th>12</th>\n",
       "      <td>5728386d4b864d1900164783</td>\n",
       "      <td>John_von_Neumann</td>\n",
       "      <td>Von Neumann's famous 9-page paper started life as a talk at Princeton and then became a paper in Germany, which was eventually translated into English. His interest in economics that led to that paper began as follows: When lecturing at Berlin in 1928 and 1929 he spent his summers back home in Budapest, and so did the economist Nicholas Kaldor, and they hit it off. Kaldor recommended that von Neumann read a book by the mathematical economist Léon Walras. Von Neumann found some faults in that book and corrected them, for example, replacing equations by inequalities. He noticed that Walras's General Equilibrium Theory and Walras' Law, which led to systems of simultaneous linear equations, could produce the absurd result that the profit could be maximized by producing and selling a negative quantity of a product. He replaced the equations by inequalities, introduced dynamic equilibria, among other things, and eventually produced the paper.</td>\n",
       "      <td>What economist did von Neumann get to know that spurred the interest in economics?</td>\n",
       "      <td>{'text': ['Nicholas Kaldor'], 'answer_start': [330]}</td>\n",
       "    </tr>\n",
       "    <tr>\n",
       "      <th>13</th>\n",
       "      <td>57343812d058e614000b6b39</td>\n",
       "      <td>Tucson,_Arizona</td>\n",
       "      <td>Another popular event held in February, which is early spring in Tucson, is the Fiesta de los Vaqueros, or rodeo week, founded by winter visitor, Leighton Kramer. While at its heart the Fiesta is a sporting event, it includes what is billed as \"the world's largest non-mechanized parade\". The Rodeo Parade is a popular event as most schools give two rodeo days off instead of Presidents Day. The exception to this is Presidio High (a non-public charter school), which doesn't get either. Western wear is seen throughout the city as corporate dress codes are cast aside during the Fiesta. The Fiesta de los Vaqueros marks the beginning of the rodeo season in the United States.</td>\n",
       "      <td>What is the Fiesta de los Vaqueros?</td>\n",
       "      <td>{'text': ['rodeo week'], 'answer_start': [107]}</td>\n",
       "    </tr>\n",
       "    <tr>\n",
       "      <th>14</th>\n",
       "      <td>5724f8890a492a1900435694</td>\n",
       "      <td>Queen_Victoria</td>\n",
       "      <td>At birth, Victoria was fifth in the line of succession after her father and his three older brothers: the Prince Regent, the Duke of York, and the Duke of Clarence (later William IV). The Prince Regent and the Duke of York were estranged from their wives, who were both past child-bearing age, so the two eldest brothers were unlikely to have any further children. The Dukes of Kent and Clarence married on the same day 12 months before Victoria's birth, but both of Clarence's daughters (born in 1819 and 1820 respectively) died as infants. Victoria's grandfather and father died in 1820, within a week of each other, and the Duke of York died in 1827. On the death of her uncle George IV in 1830, Victoria became heiress presumptive to her next surviving uncle, William IV. The Regency Act 1830 made special provision for the Duchess of Kent to act as regent in case William died while Victoria was still a minor. King William distrusted the Duchess's capacity to be regent, and in 1836 declared in her presence that he wanted to live until Victoria's 18th birthday, so that a regency could be avoided.</td>\n",
       "      <td>Who distrusted the Duchesses capability to reign in Victoria's place until she became of age?</td>\n",
       "      <td>{'text': ['King William'], 'answer_start': [916]}</td>\n",
       "    </tr>\n",
       "  </tbody>\n",
       "</table>"
      ],
      "text/plain": [
       "<IPython.core.display.HTML object>"
      ]
     },
     "metadata": {},
     "output_type": "display_data"
    }
   ],
   "source": [
    "show_random_elements(raw_datasets[\"train\"], num_example=15)"
   ]
  },
  {
   "cell_type": "markdown",
   "id": "80521d1d-a0a8-4d67-a0e7-a0b428063129",
   "metadata": {},
   "source": [
    "# preprocessing the training data 数据预处理"
   ]
  },
  {
   "cell_type": "markdown",
   "id": "f2a68256-bf26-4feb-b1a1-736a706baf12",
   "metadata": {},
   "source": [
    "对输入数据进行tokenize，得到tokens\n",
    "将tokens转化为预训练模型中需要对应的token ID\n",
    "将token ID转化为模型需要的输入格式"
   ]
  },
  {
   "cell_type": "code",
   "execution_count": 19,
   "id": "c4f467e4-4124-43b8-85b4-203d60076496",
   "metadata": {},
   "outputs": [],
   "source": [
    "from transformers import AutoTokenizer\n",
    "    \n",
    "tokenizer = AutoTokenizer.from_pretrained(model_checkpoint) #distilbert-base-uncased"
   ]
  },
  {
   "cell_type": "code",
   "execution_count": 20,
   "id": "766591c6-deed-45fc-af30-7fc82cecc8d8",
   "metadata": {},
   "outputs": [
    {
     "data": {
      "text/plain": [
       "('./model\\\\tokenizer_config.json',\n",
       " './model\\\\special_tokens_map.json',\n",
       " './model\\\\vocab.txt',\n",
       " './model\\\\added_tokens.json',\n",
       " './model\\\\tokenizer.json')"
      ]
     },
     "execution_count": 20,
     "metadata": {},
     "output_type": "execute_result"
    }
   ],
   "source": [
    "tokenizer.save_pretrained('./model') #save vocab and so on"
   ]
  },
  {
   "cell_type": "code",
   "execution_count": 22,
   "id": "ffeee54b-2d98-4b35-92c8-dffe48174c4b",
   "metadata": {},
   "outputs": [],
   "source": [
    "assert isinstance(tokenizer, transformers.PreTrainedTokenizerFast)"
   ]
  },
  {
   "cell_type": "code",
   "execution_count": 23,
   "id": "facacccf-baf8-44a7-858e-89a3796bc9d2",
   "metadata": {},
   "outputs": [
    {
     "name": "stdout",
     "output_type": "stream",
     "text": [
      "单个文本tokenize: ['what', 'is', 'your', 'name', '?']\n",
      "2个文本tokenize: ['[CLS]', 'my', 'name', 'is', 'sy', '##lva', '##in', '.', '[SEP]']\n"
     ]
    }
   ],
   "source": [
    "print(\"单个文本tokenize: {}\".format(tokenizer.tokenize(\"What is your name?\"), add_special_tokens=True))\n",
    "print(\"2个文本tokenize: {}\".format(tokenizer.tokenize(\"My name is Sylvain.\", add_special_tokens=True)))"
   ]
  },
  {
   "cell_type": "code",
   "execution_count": 24,
   "id": "6fd8b993-1eb1-40d6-9db8-0683be566879",
   "metadata": {},
   "outputs": [
    {
     "data": {
      "text/plain": [
       "{'input_ids': [101, 2054, 2003, 2115, 2171, 1029, 102], 'attention_mask': [1, 1, 1, 1, 1, 1, 1]}"
      ]
     },
     "execution_count": 24,
     "metadata": {},
     "output_type": "execute_result"
    }
   ],
   "source": [
    "tokenizer(\"What is your name?\")"
   ]
  },
  {
   "cell_type": "markdown",
   "id": "3456f645-4f2d-4dda-88de-746c32ab1620",
   "metadata": {},
   "source": [
    "问答数据三元组<question, context, answer>中的超长context截断，那么我们可能丢掉答案（因为我们是从context中抽取出一个小片段作为答案）。为了解决这个问题，下面的代码找到一个超过长度的例子，\n",
    "如何进行处理。我们把超长的输入切片为多个较短的输入，每个输入都要满足模型最大长度输入要求。由于答案可能存在与切片的地方，因此我们需要允许相邻切片之间有交集，代码中通过doc_stride参数控制。"
   ]
  },
  {
   "cell_type": "code",
   "execution_count": 34,
   "id": "787ba228-1567-4b5e-85c3-d64104a49c3c",
   "metadata": {},
   "outputs": [
    {
     "data": {
      "text/plain": [
       "160"
      ]
     },
     "execution_count": 34,
     "metadata": {},
     "output_type": "execute_result"
    }
   ],
   "source": [
    "len(tokenizer(raw_datasets[\"train\"][0][\"context\"])[\"input_ids\"])"
   ]
  },
  {
   "cell_type": "code",
   "execution_count": 25,
   "id": "07e33996-b9b4-48f8-b088-f848525e5ca3",
   "metadata": {},
   "outputs": [],
   "source": [
    "for i, example in enumerate(raw_datasets[\"train\"]):\n",
    "    if len(tokenizer(example[\"question\"], example[\"context\"])[\"input_ids\"]) > 384:\n",
    "        break\n",
    "example = raw_datasets[\"train\"][i]"
   ]
  },
  {
   "cell_type": "code",
   "execution_count": 26,
   "id": "340d6cea-4b9b-4c77-bed2-7fa264a68659",
   "metadata": {},
   "outputs": [
    {
     "data": {
      "text/plain": [
       "396"
      ]
     },
     "execution_count": 26,
     "metadata": {},
     "output_type": "execute_result"
    }
   ],
   "source": [
    "len(tokenizer(example[\"question\"], example[\"context\"])[\"input_ids\"])"
   ]
  },
  {
   "cell_type": "code",
   "execution_count": 27,
   "id": "9729692b-edd9-44a9-8500-5a57457f45c3",
   "metadata": {},
   "outputs": [],
   "source": [
    "max_length = 384 # 输入feature的最大长度，question和context拼接之后\n",
    "doc_stride = 128 # 2个切片之间的重合token数量。"
   ]
  },
  {
   "cell_type": "code",
   "execution_count": 44,
   "id": "6dd9d92b-a6d5-4129-a1c6-bf8c1e555f6a",
   "metadata": {},
   "outputs": [],
   "source": [
    "tokenized_example = tokenizer(\n",
    "    example[\"question\"],\n",
    "    example[\"context\"],\n",
    "    max_length=max_length,\n",
    "    truncation=\"only_second\",\n",
    "    return_offsets_mapping=True,#每个token在切片后context的位置和原始超长context里位置的对应关系\n",
    "    return_overflowing_tokens=True,\n",
    "    stride=doc_stride\n",
    ")"
   ]
  },
  {
   "cell_type": "code",
   "execution_count": 43,
   "id": "3a1940ab-1a10-46db-a49c-eb6b0ebc5c51",
   "metadata": {},
   "outputs": [
    {
     "name": "stdout",
     "output_type": "stream",
     "text": [
      "切片: 0\n",
      "[CLS] how many wins does the notre dame men's basketball team have? [SEP] the men's basketball team has over 1, 600 wins, one of only 12 schools who have reached that mark, and have appeared in 28 ncaa tournaments. former player austin carr holds the record for most points scored in a single game of the tournament with 61. although the team has never won the ncaa tournament, they were named by the helms athletic foundation as national champions twice. the team has orchestrated a number of upsets of number one ranked teams, the most notable of which was ending ucla's record 88 - game winning streak in 1974. the team has beaten an additional eight number - one teams, and those nine wins rank second, to ucla's 10, all - time in wins against the top team. the team plays in newly renovated purcell pavilion ( within the edmund p. joyce center ), which reopened for the beginning of the 2009 – 2010 season. the team is coached by mike brey, who, as of the 2014 – 15 season, his fifteenth at notre dame, has achieved a 332 - 165 record. in 2009 they were invited to the nit, where they advanced to the semifinals but were beaten by penn state who went on and beat baylor in the championship. the 2010 – 11 team concluded its regular season ranked number seven in the country, with a record of 25 – 5, brey's fifth straight 20 - win season, and a second - place finish in the big east. during the 2014 - 15 season, the team went 32 - 6 and won the acc conference tournament, later advancing to the elite 8, where the fighting irish lost on a missed buzzer - beater against then undefeated kentucky. led by nba draft picks jerian grant and pat connaughton, the fighting irish beat the eventual national champion duke blue devils twice during the season. the 32 wins were [SEP]\n",
      "切片: 1\n",
      "[CLS] how many wins does the notre dame men's basketball team have? [SEP] championship. the 2010 – 11 team concluded its regular season ranked number seven in the country, with a record of 25 – 5, brey's fifth straight 20 - win season, and a second - place finish in the big east. during the 2014 - 15 season, the team went 32 - 6 and won the acc conference tournament, later advancing to the elite 8, where the fighting irish lost on a missed buzzer - beater against then undefeated kentucky. led by nba draft picks jerian grant and pat connaughton, the fighting irish beat the eventual national champion duke blue devils twice during the season. the 32 wins were the most by the fighting irish team since 1908 - 09. [SEP]\n"
     ]
    }
   ],
   "source": [
    "for i, x in enumerate(tokenized_example[\"input_ids\"][:2]):\n",
    "    print(\"切片: {}\".format(i))\n",
    "    print(tokenizer.decode(x))"
   ]
  },
  {
   "cell_type": "markdown",
   "id": "502a17e9-ba3c-46c5-9872-b4c32e6f1593",
   "metadata": {},
   "source": [
    "每个token在切片后context的位置和原始超长context里位置的对应关系,\n",
    "tokenized_example第0片的前100个tokens在原始context片里的位置。注意第一个token是[CLS]设定为(0, 0)是因为这个token不属于qeustion或者answer的一部分。第2个token对应的起始和结束位置是0和3。我们可以根据切片后的token id转化对应的token；然后使用offset_mapping参数映射回切片前的token位置，找到原始位置的tokens。\n"
   ]
  },
  {
   "cell_type": "code",
   "execution_count": 45,
   "id": "fccf846c-67cb-4532-8966-731d6ca00eaa",
   "metadata": {},
   "outputs": [
    {
     "name": "stdout",
     "output_type": "stream",
     "text": [
      "[(0, 0), (0, 3), (4, 8), (9, 13), (14, 18), (19, 22), (23, 28), (29, 33), (34, 37), (37, 38), (38, 39), (40, 50), (51, 55), (56, 60), (60, 61), (0, 0), (0, 3), (4, 7), (7, 8), (8, 9), (10, 20), (21, 25), (26, 29), (30, 34), (35, 36), (36, 37), (37, 40), (41, 45), (45, 46), (47, 50), (51, 53), (54, 58), (59, 61), (62, 69), (70, 73), (74, 78), (79, 86), (87, 91), (92, 96), (96, 97), (98, 101), (102, 106), (107, 115), (116, 118), (119, 121), (122, 126), (127, 138), (138, 139), (140, 146), (147, 153), (154, 160), (161, 165), (166, 171), (172, 175), (176, 182), (183, 186), (187, 191), (192, 198), (199, 205), (206, 208), (209, 210), (211, 217), (218, 222), (223, 225), (226, 229), (230, 240), (241, 245), (246, 248), (248, 249), (250, 258), (259, 262), (263, 267), (268, 271), (272, 277), (278, 281), (282, 285), (286, 290), (291, 301), (301, 302), (303, 307), (308, 312), (313, 318), (319, 321), (322, 325), (326, 330), (330, 331), (332, 340), (341, 351), (352, 354), (355, 363), (364, 373), (374, 379), (379, 380), (381, 384), (385, 389), (390, 393), (394, 406), (407, 408), (409, 415), (416, 418)]\n"
     ]
    }
   ],
   "source": [
    "print(tokenized_example[\"offset_mapping\"][0][:100])"
   ]
  },
  {
   "cell_type": "code",
   "execution_count": 47,
   "id": "51688095-82ef-4770-867b-d7d1abb7978c",
   "metadata": {},
   "outputs": [
    {
     "name": "stdout",
     "output_type": "stream",
     "text": [
      "how 2129\n"
     ]
    }
   ],
   "source": [
    "first_token_id = tokenized_example[\"input_ids\"][0][1]\n",
    "print(tokenizer.convert_ids_to_tokens([first_token_id])[0],first_token_id)"
   ]
  },
  {
   "cell_type": "code",
   "execution_count": 50,
   "id": "5811fc6f-d2dd-4548-ab44-d67675748064",
   "metadata": {},
   "outputs": [
    {
     "data": {
      "text/plain": [
       "(0, 3)"
      ]
     },
     "execution_count": 50,
     "metadata": {},
     "output_type": "execute_result"
    }
   ],
   "source": [
    "offsets = tokenized_example[\"offset_mapping\"][0][1]\n",
    "offsets\n",
    "#print(example[\"question\"][offsets[0]:offsets[1]],offsets)"
   ]
  },
  {
   "cell_type": "code",
   "execution_count": 52,
   "id": "f65434cf-be39-48cf-b1fe-718f768156f4",
   "metadata": {},
   "outputs": [
    {
     "name": "stdout",
     "output_type": "stream",
     "text": [
      "[None, 0, 0, 0, 0, 0, 0, 0, 0, 0, 0, 0, 0, 0, 0, None, 1, 1, 1, 1, 1, 1, 1, 1, 1, 1, 1, 1, 1, 1, 1, 1, 1, 1, 1, 1, 1, 1, 1, 1, 1, 1, 1, 1, 1, 1, 1, 1, 1, 1, 1, 1, 1, 1, 1, 1, 1, 1, 1, 1, 1, 1, 1, 1, 1, 1, 1, 1, 1, 1, 1, 1, 1, 1, 1, 1, 1, 1, 1, 1, 1, 1, 1, 1, 1, 1, 1, 1, 1, 1, 1, 1, 1, 1, 1, 1, 1, 1, 1, 1, 1, 1, 1, 1, 1, 1, 1, 1, 1, 1, 1, 1, 1, 1, 1, 1, 1, 1, 1, 1, 1, 1, 1, 1, 1, 1, 1, 1, 1, 1, 1, 1, 1, 1, 1, 1, 1, 1, 1, 1, 1, 1, 1, 1, 1, 1, 1, 1, 1, 1, 1, 1, 1, 1, 1, 1, 1, 1, 1, 1, 1, 1, 1, 1, 1, 1, 1, 1, 1, 1, 1, 1, 1, 1, 1, 1, 1, 1, 1, 1, 1, 1, 1, 1, 1, 1, 1, 1, 1, 1, 1, 1, 1, 1, 1, 1, 1, 1, 1, 1, 1, 1, 1, 1, 1, 1, 1, 1, 1, 1, 1, 1, 1, 1, 1, 1, 1, 1, 1, 1, 1, 1, 1, 1, 1, 1, 1, 1, 1, 1, 1, 1, 1, 1, 1, 1, 1, 1, 1, 1, 1, 1, 1, 1, 1, 1, 1, 1, 1, 1, 1, 1, 1, 1, 1, 1, 1, 1, 1, 1, 1, 1, 1, 1, 1, 1, 1, 1, 1, 1, 1, 1, 1, 1, 1, 1, 1, 1, 1, 1, 1, 1, 1, 1, 1, 1, 1, 1, 1, 1, 1, 1, 1, 1, 1, 1, 1, 1, 1, 1, 1, 1, 1, 1, 1, 1, 1, 1, 1, 1, 1, 1, 1, 1, 1, 1, 1, 1, 1, 1, 1, 1, 1, 1, 1, 1, 1, 1, 1, 1, 1, 1, 1, 1, 1, 1, 1, 1, 1, 1, 1, 1, 1, 1, 1, 1, 1, 1, 1, 1, 1, 1, 1, 1, 1, 1, 1, 1, 1, 1, 1, 1, 1, 1, 1, 1, 1, 1, 1, 1, 1, 1, 1, 1, 1, 1, 1, 1, 1, 1, 1, 1, 1, None]\n"
     ]
    }
   ],
   "source": [
    "sequence_ids = tokenized_example.sequence_ids()\n",
    "print(sequence_ids)\n",
    "#None对应了special tokens，然后0或者1分表代表第1个文本和第2个文本，由于我们qeustin第1个传入，context第2个传入，所以分别对应question和context。"
   ]
  },
  {
   "cell_type": "code",
   "execution_count": 53,
   "id": "57dfed1a-cad9-4e33-afd2-24a9554f8ea1",
   "metadata": {},
   "outputs": [
    {
     "name": "stdout",
     "output_type": "stream",
     "text": [
      "30 40\n"
     ]
    }
   ],
   "source": [
    "answers = example[\"answers\"]\n",
    "start_char = answers[\"answer_start\"][0]\n",
    "end_char = start_char + len(answers[\"text\"][0])\n",
    "print(start_char,end_char)"
   ]
  },
  {
   "cell_type": "code",
   "execution_count": 54,
   "id": "00ed300a-760b-4ad1-9e91-f7f2b69e3865",
   "metadata": {},
   "outputs": [
    {
     "name": "stdout",
     "output_type": "stream",
     "text": [
      "16\n"
     ]
    }
   ],
   "source": [
    "# 找到当前文本的Start token index.\n",
    "token_start_index = 0\n",
    "while sequence_ids[token_start_index] != 1:\n",
    "    token_start_index += 1\n",
    "print(token_start_index)"
   ]
  },
  {
   "cell_type": "code",
   "execution_count": 56,
   "id": "2399793d-4484-4847-adfe-82de1bf2a111",
   "metadata": {},
   "outputs": [
    {
     "name": "stdout",
     "output_type": "stream",
     "text": [
      "382\n"
     ]
    }
   ],
   "source": [
    "# 找到当前文本的End token idnex.\n",
    "token_end_index = len(tokenized_example[\"input_ids\"][0]) - 1\n",
    "while sequence_ids[token_end_index] != 1:\n",
    "    token_end_index -= 1\n",
    "print(token_end_index)"
   ]
  },
  {
   "cell_type": "code",
   "execution_count": 58,
   "id": "4b646153-58ba-4a9f-aa16-9a0af6c544f7",
   "metadata": {},
   "outputs": [
    {
     "name": "stdout",
     "output_type": "stream",
     "text": [
      "start_position: 23, end_position: 26\n"
     ]
    }
   ],
   "source": [
    "# 检测答案是否在文本区间的外部，这种情况下意味着该样本的数据标注在CLS token位置。\n",
    "offsets = tokenized_example[\"offset_mapping\"][0]\n",
    "if (offsets[token_start_index][0] <= start_char and offsets[token_end_index][1] >= end_char):\n",
    "    # 将token_start_index和token_end_index移动到answer所在位置的两侧.\n",
    "    # 注意：答案在最末尾的边界条件.\n",
    "    while token_start_index < len(offsets) and offsets[token_start_index][0] <= start_char:\n",
    "        token_start_index += 1\n",
    "    start_position = token_start_index - 1\n",
    "    while offsets[token_end_index][1] >= end_char:\n",
    "        token_end_index -= 1\n",
    "    end_position = token_end_index + 1\n",
    "    print(\"start_position: {}, end_position: {}\".format(start_position, end_position))\n",
    "else:\n",
    "    print(\"The answer is not in this feature.\")\n",
    "    "
   ]
  },
  {
   "cell_type": "code",
   "execution_count": 59,
   "id": "e79b868f-3f4f-4bda-b4e0-260450c571d9",
   "metadata": {},
   "outputs": [
    {
     "name": "stdout",
     "output_type": "stream",
     "text": [
      "over 1, 600\n",
      "over 1,600\n"
     ]
    }
   ],
   "source": [
    "#验证方式是：使用答案所在位置下标，取到对应的token ID，然后转化为文本，然后和原始答案进行但对比。\n",
    "print(tokenizer.decode(tokenized_example[\"input_ids\"][0][start_position: end_position+1]))\n",
    "print(answers[\"text\"][0])"
   ]
  },
  {
   "cell_type": "code",
   "execution_count": null,
   "id": "f6154455-7476-404b-aff5-8eb540a02759",
   "metadata": {},
   "outputs": [],
   "source": []
  },
  {
   "cell_type": "code",
   "execution_count": null,
   "id": "893b0549-27b3-4ae0-ac31-2ab5f541de3f",
   "metadata": {},
   "outputs": [],
   "source": []
  },
  {
   "cell_type": "code",
   "execution_count": null,
   "id": "a506442d-60ca-44e4-b7cb-b6729fa8e826",
   "metadata": {},
   "outputs": [],
   "source": []
  },
  {
   "cell_type": "code",
   "execution_count": null,
   "id": "e4171b22-2c88-4c11-86c8-c58289f9f09c",
   "metadata": {},
   "outputs": [],
   "source": []
  }
 ],
 "metadata": {
  "kernelspec": {
   "display_name": "Python 3",
   "language": "python",
   "name": "python3"
  },
  "language_info": {
   "codemirror_mode": {
    "name": "ipython",
    "version": 3
   },
   "file_extension": ".py",
   "mimetype": "text/x-python",
   "name": "python",
   "nbconvert_exporter": "python",
   "pygments_lexer": "ipython3",
   "version": "3.8.8"
  }
 },
 "nbformat": 4,
 "nbformat_minor": 5
}
